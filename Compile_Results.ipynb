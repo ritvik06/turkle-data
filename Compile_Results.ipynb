{
 "cells": [
  {
   "cell_type": "code",
   "execution_count": 304,
   "metadata": {},
   "outputs": [],
   "source": [
    "import pandas as pd\n",
    "import numpy as np\n",
    "import pickle\n",
    "from sklearn.preprocessing import MinMaxScaler\n",
    "from torch import nn\n",
    "import torch\n",
    "from matplotlib import pyplot as plt"
   ]
  },
  {
   "cell_type": "markdown",
   "metadata": {},
   "source": [
    "Scoring Mechanism\n",
    "\n",
    "Q1. Complex Statistical Inference \n",
    "\n",
    "Best - 2 points, Doable - 1 points, Impossible - 0 point\n",
    "\n",
    "Q2. Clusters\n",
    "\n",
    "If data doesn't have clusters\n",
    "    - Answered NO - 2 points\n",
    "    - Answered YES - 0 points\n",
    "    \n",
    "If data has clusters \n",
    "    - Answered NO - 0 points\n",
    "    - Answered YES -\n",
    "        (a) # of clusters same as ground truth - 2 points\n",
    "        (b) # of clusters different from ground truth - 0 points\n",
    "\n",
    "Q3. Threshold above Y-axis\n",
    "\n",
    "If answer is such that\n",
    "\n",
    "    - |answer - actual| <= 20% of actual - 2 points\n",
    "    - |answer - actual| <= 40% of actual - 1 points\n",
    "    - Else 0 points\n",
    "\n",
    "Q4. Threshold above X-axis\n",
    "\n",
    "If answer is such that\n",
    "\n",
    "    - |answer - actual| <= 20% of actual - 2/1 points\n",
    "    - |answer - actual| <= 40% of actual - 1/0.5 points\n",
    "    - Else 0 points\n",
    "\n",
    "Scores will be decided for each plot type for each datapoint. For each datapoint, the plot type with the highest score is the User's preferred choice of plot type.\n",
    "\n"
   ]
  },
  {
   "cell_type": "code",
   "execution_count": 277,
   "metadata": {},
   "outputs": [],
   "source": [
    "############################# POINTS FOR Q1 ###############################"
   ]
  },
  {
   "cell_type": "code",
   "execution_count": 278,
   "metadata": {},
   "outputs": [],
   "source": [
    "df1 = pd.read_csv('./results/Experiment 2/Q1_CSI-Batch_84_results.csv')"
   ]
  },
  {
   "cell_type": "code",
   "execution_count": 279,
   "metadata": {},
   "outputs": [],
   "source": [
    "# Key : img_number, Value : ['Answer.Scatter', 'Answer.Line', 'Answer.Density']\n",
    "answers = {}\n",
    "\n",
    "for i in range(35):\n",
    "    answers[df1.iloc[i]['Input.image_url1'].split('/')[-1][:-16]] = [df1.iloc[i]['Answer.Scatter'], df1.iloc[i]['Answer.Line'], df1.iloc[i]['Answer.Density']]"
   ]
  },
  {
   "cell_type": "code",
   "execution_count": 280,
   "metadata": {},
   "outputs": [],
   "source": [
    "def points_for_choice(choice):\n",
    "    assert type(choice)==str, \"Choice is not string type\"\n",
    "    \n",
    "    if (choice=='Best'):\n",
    "        return 2\n",
    "    elif (choice=='Doable'):\n",
    "        return 1\n",
    "    elif (choice=='Impossible'):\n",
    "        return 0"
   ]
  },
  {
   "cell_type": "code",
   "execution_count": 281,
   "metadata": {},
   "outputs": [],
   "source": [
    "points = {}\n",
    "\n",
    "for key in answers.keys():\n",
    "    points[int(key)] = list(map(points_for_choice, answers[key]))"
   ]
  },
  {
   "cell_type": "code",
   "execution_count": 282,
   "metadata": {},
   "outputs": [
    {
     "name": "stdout",
     "output_type": "stream",
     "text": [
      "{365: [1, 0, 2], 1296: [1, 1, 2], 60: [0, 1, 2], 1200: [1, 1, 2], 827: [1, 0, 2], 287: [1, 0, 2], 874: [1, 1, 2], 289: [1, 1, 2], 1148: [1, 1, 0], 1106: [2, 1, 1], 1351: [1, 1, 2], 1366: [2, 1, 1], 173: [0, 0, 2], 714: [1, 0, 2], 16: [2, 0, 1], 1086: [2, 1, 1], 1283: [2, 1, 1], 117: [2, 1, 1], 961: [1, 1, 2], 1235: [2, 1, 1], 37: [1, 1, 2], 1401: [2, 1, 1], 849: [1, 2, 0], 871: [2, 1, 0], 442: [1, 1, 2], 838: [1, 0, 2], 898: [2, 1, 1], 696: [1, 1, 2], 1396: [1, 1, 2], 495: [1, 0, 2], 1104: [1, 1, 2], 3: [2, 1, 1], 1425: [1, 1, 2], 1041: [2, 1, 1], 560: [1, 1, 2]}\n"
     ]
    }
   ],
   "source": [
    "print(points)"
   ]
  },
  {
   "cell_type": "code",
   "execution_count": 283,
   "metadata": {},
   "outputs": [],
   "source": [
    "best = {'Density':0, 'Scatter':0, 'Line':0}\n",
    "doable = {'Density':0, 'Scatter':0, 'Line':0}\n",
    "impossible = {'Density':0, 'Scatter':0, 'Line':0}\n",
    "\n",
    "for key in points.keys():\n",
    "    if(points[key][2]==2):\n",
    "        best['Density']+=1\n",
    "    if(points[key][1]==2):\n",
    "        best['Line']+=1\n",
    "    if(points[key][0]==2):\n",
    "        best['Scatter']+=1\n",
    "\n",
    "for key in points.keys():\n",
    "    if(points[key][2]==1):\n",
    "        doable['Density']+=1\n",
    "    if(points[key][1]==1):\n",
    "        doable['Line']+=1\n",
    "    if(points[key][0]==1):\n",
    "        doable['Scatter']+=1\n",
    "        \n",
    "for key in points.keys():\n",
    "    if(points[key][2]==0):\n",
    "        impossible['Density']+=1\n",
    "    if(points[key][1]==0):\n",
    "        impossible['Line']+=1\n",
    "    if(points[key][0]==0):\n",
    "        impossible['Scatter']+=1"
   ]
  },
  {
   "cell_type": "code",
   "execution_count": 284,
   "metadata": {},
   "outputs": [
    {
     "name": "stdout",
     "output_type": "stream",
     "text": [
      "{'Density': 21, 'Scatter': 12, 'Line': 1}\n",
      "{'Density': 11, 'Scatter': 21, 'Line': 26}\n",
      "{'Density': 3, 'Scatter': 2, 'Line': 8}\n"
     ]
    }
   ],
   "source": [
    "print(best)\n",
    "print(doable)\n",
    "print(impossible)"
   ]
  },
  {
   "cell_type": "code",
   "execution_count": 8,
   "metadata": {},
   "outputs": [],
   "source": [
    "############################# POINTS FOR Q2 ############################### (SKIPPING FOR NOW)"
   ]
  },
  {
   "cell_type": "code",
   "execution_count": 305,
   "metadata": {},
   "outputs": [
    {
     "name": "stdout",
     "output_type": "stream",
     "text": [
      "Optimal Number of Clusters is 3\n"
     ]
    },
    {
     "data": {
      "text/plain": [
       "[<matplotlib.lines.Line2D at 0x7ff98983dfa0>]"
      ]
     },
     "execution_count": 305,
     "metadata": {},
     "output_type": "execute_result"
    },
    {
     "data": {
      "image/png": "[encoded data removed]",
      "text/plain": [
       "<Figure size 432x288 with 1 Axes>"
      ]
     },
     "metadata": {
      "needs_background": "light"
     },
     "output_type": "display_data"
    }
   ],
   "source": [
    "y = pickle.load(open('./plots/871/871.pkl', 'rb'))[0]['Y']\n",
    "x = pickle.load(open('./plots/871/871.pkl', 'rb'))[0]['X']\n",
    "\n",
    "data = np.asarray(list(zip(x,y)), np.float64)\n",
    "\n",
    "mms = MinMaxScaler()\n",
    "mms.fit(data)\n",
    "data = mms.transform(data)\n",
    "\n",
    "from sklearn.cluster import KMeans\n",
    "from kneebow.rotor import Rotor\n",
    "\n",
    "Sum_of_squared_distances = []\n",
    "for k in range(1,11):\n",
    "    kmeans = KMeans(n_clusters=k, random_state=0).fit(data)\n",
    "    Sum_of_squared_distances.append(kmeans.inertia_)\n",
    "\n",
    "from kneed import KneeLocator\n",
    "kn = KneeLocator(np.arange(1,11,1), Sum_of_squared_distances, curve='convex', direction='decreasing')\n",
    "\n",
    "print(\"Optimal Number of Clusters is %d\" %(kn.knee))\n",
    "\n",
    "plt.xlabel('number of clusters k')\n",
    "plt.ylabel('Sum of squared distances')\n",
    "plt.vlines(kn.knee, plt.ylim()[0], Sum_of_squared_distances[0], linestyles='dashed')\n",
    "plt.plot(np.arange(1,11,1), Sum_of_squared_distances)\n",
    "\n",
    "\n"
   ]
  },
  {
   "cell_type": "code",
   "execution_count": null,
   "metadata": {},
   "outputs": [],
   "source": [
    "# #Find clusters from data\n",
    "# data_dir = './turkle_data/'\n",
    "# pickle.load(open(data_dir + '827/827.pkl', 'rb'))"
   ]
  },
  {
   "cell_type": "code",
   "execution_count": 217,
   "metadata": {},
   "outputs": [],
   "source": [
    "############################# POINTS FOR Q3 ###############################"
   ]
  },
  {
   "cell_type": "code",
   "execution_count": 218,
   "metadata": {},
   "outputs": [],
   "source": [
    "df3 = pd.read_csv('./results/Experiment 2/Q3_threshold-Batch_86_results.csv')"
   ]
  },
  {
   "cell_type": "code",
   "execution_count": 219,
   "metadata": {},
   "outputs": [
    {
     "data": {
      "text/html": [
       "<div>\n",
       "<style scoped>\n",
       "    .dataframe tbody tr th:only-of-type {\n",
       "        vertical-align: middle;\n",
       "    }\n",
       "\n",
       "    .dataframe tbody tr th {\n",
       "        vertical-align: top;\n",
       "    }\n",
       "\n",
       "    .dataframe thead th {\n",
       "        text-align: right;\n",
       "    }\n",
       "</style>\n",
       "<table border=\"1\" class=\"dataframe\">\n",
       "  <thead>\n",
       "    <tr style=\"text-align: right;\">\n",
       "      <th></th>\n",
       "      <th>HITId</th>\n",
       "      <th>HITTypeId</th>\n",
       "      <th>Title</th>\n",
       "      <th>CreationTime</th>\n",
       "      <th>MaxAssignments</th>\n",
       "      <th>AssignmentDurationInSeconds</th>\n",
       "      <th>AssignmentId</th>\n",
       "      <th>WorkerId</th>\n",
       "      <th>AcceptTime</th>\n",
       "      <th>SubmitTime</th>\n",
       "      <th>WorkTimeInSeconds</th>\n",
       "      <th>Input.image_url1</th>\n",
       "      <th>Answer.fraction</th>\n",
       "      <th>Turkle.Username</th>\n",
       "    </tr>\n",
       "  </thead>\n",
       "  <tbody>\n",
       "    <tr>\n",
       "      <th>0</th>\n",
       "      <td>42786</td>\n",
       "      <td>19</td>\n",
       "      <td>Q3_threshold</td>\n",
       "      <td>Thu Mar 03 07:58:55 UTC 2021</td>\n",
       "      <td>1</td>\n",
       "      <td>86400</td>\n",
       "      <td>3762</td>\n",
       "      <td>54</td>\n",
       "      <td>Thu Mar 03 09:56:37 UTC 2021</td>\n",
       "      <td>Thu Mar 03 09:56:42 UTC 2021</td>\n",
       "      <td>4</td>\n",
       "      <td>https://raw.githubusercontent.com/ritvik06/tur...</td>\n",
       "      <td>0.3</td>\n",
       "      <td>Skandregula</td>\n",
       "    </tr>\n",
       "    <tr>\n",
       "      <th>1</th>\n",
       "      <td>42787</td>\n",
       "      <td>19</td>\n",
       "      <td>Q3_threshold</td>\n",
       "      <td>Thu Mar 03 07:58:55 UTC 2021</td>\n",
       "      <td>1</td>\n",
       "      <td>86400</td>\n",
       "      <td>3770</td>\n",
       "      <td>54</td>\n",
       "      <td>Thu Mar 03 10:01:00 UTC 2021</td>\n",
       "      <td>Thu Mar 03 10:01:04 UTC 2021</td>\n",
       "      <td>4</td>\n",
       "      <td>https://raw.githubusercontent.com/ritvik06/tur...</td>\n",
       "      <td>0.5</td>\n",
       "      <td>Skandregula</td>\n",
       "    </tr>\n",
       "    <tr>\n",
       "      <th>2</th>\n",
       "      <td>42788</td>\n",
       "      <td>19</td>\n",
       "      <td>Q3_threshold</td>\n",
       "      <td>Thu Mar 03 07:58:55 UTC 2021</td>\n",
       "      <td>1</td>\n",
       "      <td>86400</td>\n",
       "      <td>3771</td>\n",
       "      <td>54</td>\n",
       "      <td>Thu Mar 03 10:01:04 UTC 2021</td>\n",
       "      <td>Thu Mar 03 10:01:17 UTC 2021</td>\n",
       "      <td>12</td>\n",
       "      <td>https://raw.githubusercontent.com/ritvik06/tur...</td>\n",
       "      <td>0.6</td>\n",
       "      <td>Skandregula</td>\n",
       "    </tr>\n",
       "    <tr>\n",
       "      <th>3</th>\n",
       "      <td>42789</td>\n",
       "      <td>19</td>\n",
       "      <td>Q3_threshold</td>\n",
       "      <td>Thu Mar 03 07:58:55 UTC 2021</td>\n",
       "      <td>1</td>\n",
       "      <td>86400</td>\n",
       "      <td>3772</td>\n",
       "      <td>54</td>\n",
       "      <td>Thu Mar 03 10:01:17 UTC 2021</td>\n",
       "      <td>Thu Mar 03 10:01:23 UTC 2021</td>\n",
       "      <td>6</td>\n",
       "      <td>https://raw.githubusercontent.com/ritvik06/tur...</td>\n",
       "      <td>0.3</td>\n",
       "      <td>Skandregula</td>\n",
       "    </tr>\n",
       "    <tr>\n",
       "      <th>4</th>\n",
       "      <td>42790</td>\n",
       "      <td>19</td>\n",
       "      <td>Q3_threshold</td>\n",
       "      <td>Thu Mar 03 07:58:55 UTC 2021</td>\n",
       "      <td>1</td>\n",
       "      <td>86400</td>\n",
       "      <td>3773</td>\n",
       "      <td>54</td>\n",
       "      <td>Thu Mar 03 10:01:23 UTC 2021</td>\n",
       "      <td>Thu Mar 03 10:01:30 UTC 2021</td>\n",
       "      <td>6</td>\n",
       "      <td>https://raw.githubusercontent.com/ritvik06/tur...</td>\n",
       "      <td>0.5</td>\n",
       "      <td>Skandregula</td>\n",
       "    </tr>\n",
       "  </tbody>\n",
       "</table>\n",
       "</div>"
      ],
      "text/plain": [
       "   HITId  HITTypeId         Title                  CreationTime  \\\n",
       "0  42786         19  Q3_threshold  Thu Mar 03 07:58:55 UTC 2021   \n",
       "1  42787         19  Q3_threshold  Thu Mar 03 07:58:55 UTC 2021   \n",
       "2  42788         19  Q3_threshold  Thu Mar 03 07:58:55 UTC 2021   \n",
       "3  42789         19  Q3_threshold  Thu Mar 03 07:58:55 UTC 2021   \n",
       "4  42790         19  Q3_threshold  Thu Mar 03 07:58:55 UTC 2021   \n",
       "\n",
       "   MaxAssignments  AssignmentDurationInSeconds  AssignmentId  WorkerId  \\\n",
       "0               1                        86400          3762        54   \n",
       "1               1                        86400          3770        54   \n",
       "2               1                        86400          3771        54   \n",
       "3               1                        86400          3772        54   \n",
       "4               1                        86400          3773        54   \n",
       "\n",
       "                     AcceptTime                    SubmitTime  \\\n",
       "0  Thu Mar 03 09:56:37 UTC 2021  Thu Mar 03 09:56:42 UTC 2021   \n",
       "1  Thu Mar 03 10:01:00 UTC 2021  Thu Mar 03 10:01:04 UTC 2021   \n",
       "2  Thu Mar 03 10:01:04 UTC 2021  Thu Mar 03 10:01:17 UTC 2021   \n",
       "3  Thu Mar 03 10:01:17 UTC 2021  Thu Mar 03 10:01:23 UTC 2021   \n",
       "4  Thu Mar 03 10:01:23 UTC 2021  Thu Mar 03 10:01:30 UTC 2021   \n",
       "\n",
       "   WorkTimeInSeconds                                   Input.image_url1  \\\n",
       "0                  4  https://raw.githubusercontent.com/ritvik06/tur...   \n",
       "1                  4  https://raw.githubusercontent.com/ritvik06/tur...   \n",
       "2                 12  https://raw.githubusercontent.com/ritvik06/tur...   \n",
       "3                  6  https://raw.githubusercontent.com/ritvik06/tur...   \n",
       "4                  6  https://raw.githubusercontent.com/ritvik06/tur...   \n",
       "\n",
       "   Answer.fraction Turkle.Username  \n",
       "0              0.3     Skandregula  \n",
       "1              0.5     Skandregula  \n",
       "2              0.6     Skandregula  \n",
       "3              0.3     Skandregula  \n",
       "4              0.5     Skandregula  "
      ]
     },
     "execution_count": 219,
     "metadata": {},
     "output_type": "execute_result"
    }
   ],
   "source": [
    "df3.head()"
   ]
  },
  {
   "cell_type": "code",
   "execution_count": 220,
   "metadata": {},
   "outputs": [],
   "source": [
    "answers_q3 = {}\n",
    "\n",
    "for i in range(105):\n",
    "    answers_q3[(df3.iloc[i]['Input.image_url1'].split('/')[-1]).split('_num')[0]] = df3.iloc[i]['Answer.fraction']"
   ]
  },
  {
   "cell_type": "code",
   "execution_count": 221,
   "metadata": {},
   "outputs": [],
   "source": [
    "data_dir = './turkle_data/'\n",
    "\n",
    "orig_answersq3 = {}\n",
    "\n",
    "for key in answers.keys():\n",
    "    data_y = pickle.load(open(data_dir + key + '/' + key + '.pkl', 'rb'))[0]['Y']\n",
    "    \n",
    "    orig_ans = len(np.where(np.asarray([data_y[i] for i in range(len(data_y))]) > 0.5)[0])/len(data_y)\n",
    "    \n",
    "    orig_answersq3[key+'_scatter'] = orig_ans\n",
    "    orig_answersq3[key+'_line'] = orig_ans\n",
    "    orig_answersq3[key+'_density'] = orig_ans\n",
    "\n",
    "\n",
    "#     print(orig_answersq3)"
   ]
  },
  {
   "cell_type": "code",
   "execution_count": 222,
   "metadata": {},
   "outputs": [],
   "source": [
    "dif_y = {}\n",
    "for key in orig_answersq3.keys():\n",
    "    dif_y[key] = (np.abs(answers_q3[key] - orig_answersq3[key])*100)/orig_answersq3[key]"
   ]
  },
  {
   "cell_type": "code",
   "execution_count": 223,
   "metadata": {},
   "outputs": [],
   "source": [
    "best = {'Density':0, 'Scatter':0, 'Line':0}\n",
    "doable = {'Density':0, 'Scatter':0, 'Line':0}\n",
    "impossible = {'Density':0, 'Scatter':0, 'Line':0}\n",
    "\n",
    "for key in points.keys():\n",
    "    if(dif_y[str(key)+'_scatter'] <= 20):\n",
    "        points[key][0]+=2\n",
    "        best['Scatter']+=1\n",
    "    elif(dif_y[str(key)+'_scatter'] <= 40):\n",
    "        points[key][0]+=1\n",
    "        doable['Scatter']+=1\n",
    "    else:\n",
    "        impossible['Scatter']+=1\n",
    "\n",
    "    if(dif_y[str(key)+'_line'] <= 20):\n",
    "        points[key][1]+=2\n",
    "        best['Line']+=1\n",
    "    elif(dif_y[str(key)+'_line'] <= 40):\n",
    "        points[key][1]+=1\n",
    "        doable['Line']+=1\n",
    "    else:\n",
    "        impossible['Line']+=1\n",
    "\n",
    "    if(dif_y[str(key)+'_density'] <= 20):\n",
    "        points[key][2]+=2\n",
    "        best['Density']+=1\n",
    "    elif(dif_y[str(key)+'_density'] <= 40):\n",
    "        points[key][2]+=1\n",
    "        doable['Density']+=1\n",
    "    else:\n",
    "        impossible['Density']+=1"
   ]
  },
  {
   "cell_type": "code",
   "execution_count": 224,
   "metadata": {},
   "outputs": [
    {
     "name": "stdout",
     "output_type": "stream",
     "text": [
      "{365: [3, 0, 2], 1296: [3, 1, 2], 60: [1, 2, 3], 1200: [2, 1, 4], 827: [3, 0, 2], 287: [1, 2, 4], 874: [3, 3, 2], 289: [2, 3, 3], 1148: [1, 1, 0], 1106: [2, 3, 3], 1351: [3, 3, 4], 1366: [4, 3, 1], 173: [2, 2, 4], 714: [1, 0, 4], 16: [2, 1, 1], 1086: [4, 3, 3], 1283: [3, 2, 1], 117: [4, 3, 3], 961: [3, 2, 2], 1235: [4, 2, 1], 37: [3, 3, 2], 1401: [4, 2, 2], 849: [2, 4, 1], 871: [3, 1, 1], 442: [3, 3, 4], 838: [3, 2, 4], 898: [3, 2, 2], 696: [1, 3, 2], 1396: [1, 2, 4], 495: [1, 0, 4], 1104: [1, 1, 2], 3: [4, 3, 3], 1425: [2, 2, 4], 1041: [4, 3, 2], 560: [3, 3, 2]}\n"
     ]
    }
   ],
   "source": [
    "print(points)"
   ]
  },
  {
   "cell_type": "code",
   "execution_count": 225,
   "metadata": {},
   "outputs": [
    {
     "name": "stdout",
     "output_type": "stream",
     "text": [
      "{'Density': 14, 'Scatter': 18, 'Line': 17}\n",
      "{'Density': 7, 'Scatter': 8, 'Line': 9}\n",
      "{'Density': 14, 'Scatter': 9, 'Line': 9}\n"
     ]
    }
   ],
   "source": [
    "print(best)\n",
    "print(doable)\n",
    "print(impossible)"
   ]
  },
  {
   "cell_type": "code",
   "execution_count": 226,
   "metadata": {},
   "outputs": [],
   "source": [
    "############################# POINTS FOR Q4 ###############################"
   ]
  },
  {
   "cell_type": "code",
   "execution_count": 227,
   "metadata": {},
   "outputs": [],
   "source": [
    "df4 = pd.read_csv('./results/Experiment 2/Q4_Threshold-Batch_87_results.csv')"
   ]
  },
  {
   "cell_type": "code",
   "execution_count": 228,
   "metadata": {},
   "outputs": [],
   "source": [
    "answers_q4 = {}\n",
    "\n",
    "for i in range(105):\n",
    "    answers_q4[(df4.iloc[i]['Input.image_url1'].split('/')[-1]).split('_num')[0]] = float(df4.iloc[i]['Answer.fraction'])"
   ]
  },
  {
   "cell_type": "code",
   "execution_count": 229,
   "metadata": {},
   "outputs": [],
   "source": [
    "data_dir = './turkle_data/'\n",
    "\n",
    "orig_answersq4 = {}\n",
    "\n",
    "for key in answers.keys():\n",
    "    data_x = pickle.load(open(data_dir + key + '/' + key + '.pkl', 'rb'))[0]['X']\n",
    "    \n",
    "    orig_ans = len(np.where(np.asarray([data_x[i] for i in range(len(data_x))]) > 0.5)[0])/len(data_x)\n",
    "    \n",
    "    orig_answersq4[key+'_scatter'] = orig_ans\n",
    "    orig_answersq4[key+'_line'] = orig_ans\n",
    "    orig_answersq4[key+'_density'] = orig_ans"
   ]
  },
  {
   "cell_type": "code",
   "execution_count": 230,
   "metadata": {},
   "outputs": [],
   "source": [
    "dif_x = {}\n",
    "for key in orig_answersq4.keys():\n",
    "    dif_x[key] = (np.abs(answers_q4[key] - orig_answersq4[key])*100)/orig_answersq4[key]"
   ]
  },
  {
   "cell_type": "code",
   "execution_count": 231,
   "metadata": {},
   "outputs": [],
   "source": [
    "best = {'Density':0, 'Scatter':0, 'Line':0}\n",
    "doable = {'Density':0, 'Scatter':0, 'Line':0}\n",
    "impossible = {'Density':0, 'Scatter':0, 'Line':0}\n",
    "\n",
    "for key in points.keys():\n",
    "    if(dif_x[str(key)+'_scatter'] <= 20):\n",
    "        points[key][0]+=1\n",
    "        best['Scatter']+=1\n",
    "    elif(dif_x[str(key)+'_scatter'] <= 40):\n",
    "        points[key][0]+=0.5\n",
    "        doable['Scatter']+=1\n",
    "    else:\n",
    "        impossible['Scatter']+=1\n",
    "\n",
    "    if(dif_x[str(key)+'_line'] <= 20):\n",
    "        points[key][1]+=1\n",
    "        best['Line']+=1\n",
    "    elif(dif_x[str(key)+'_line'] <= 40):\n",
    "        points[key][1]+=0.5\n",
    "        doable['Line']+=1\n",
    "    else:\n",
    "        impossible['Line']+=1\n",
    "\n",
    "    if(dif_x[str(key)+'_density'] <= 20):\n",
    "        points[key][2]+=1\n",
    "        best['Density']+=1\n",
    "    elif(dif_x[str(key)+'_density'] <= 40):\n",
    "        points[key][2]+=0.5\n",
    "        doable['Density']+=1\n",
    "    else:\n",
    "        impossible['Density']+=1"
   ]
  },
  {
   "cell_type": "code",
   "execution_count": 264,
   "metadata": {},
   "outputs": [
    {
     "name": "stdout",
     "output_type": "stream",
     "text": [
      "{365: [1, 0, 2], 1296: [1, 1, 2], 60: [0, 1, 2], 1200: [1, 1, 2], 827: [1, 0, 2], 287: [1, 0, 2], 874: [1, 1, 2], 289: [1, 1, 2], 1148: [1, 1, 0], 1106: [2, 1, 1], 1351: [1, 1, 2], 1366: [2, 1, 1], 173: [0, 0, 2], 714: [1, 0, 2], 16: [2, 0, 1], 1086: [2, 1, 1], 1283: [2, 1, 1], 117: [2, 1, 1], 961: [1, 1, 2], 1235: [2, 1, 1], 37: [1, 1, 2], 1401: [2, 1, 1], 849: [1, 2, 0], 871: [2, 1, 0], 442: [1, 1, 2], 838: [1, 0, 2], 898: [2, 1, 1], 696: [1, 1, 2], 1396: [1, 1, 2], 495: [1, 0, 2], 1104: [1, 1, 2], 3: [2, 1, 1], 1425: [1, 1, 2], 1041: [2, 1, 1], 560: [1, 1, 2]}\n",
      "{'Density': 21, 'Scatter': 12, 'Line': 1}\n",
      "{'Density': 11, 'Scatter': 21, 'Line': 26}\n",
      "{'Density': 3, 'Scatter': 2, 'Line': 8}\n"
     ]
    }
   ],
   "source": [
    "print(points)\n",
    "print(best)\n",
    "print(doable)\n",
    "print(impossible)"
   ]
  },
  {
   "cell_type": "code",
   "execution_count": 285,
   "metadata": {},
   "outputs": [],
   "source": [
    "best = {}\n",
    "second_best = {}\n",
    "\n",
    "for key in points.keys():\n",
    "    idx = (-np.asarray(points[key])).argsort()[:2]\n",
    "    best[key] =  idx[0]\n",
    "    second_best[key] = idx[1]"
   ]
  },
  {
   "cell_type": "code",
   "execution_count": 286,
   "metadata": {},
   "outputs": [
    {
     "name": "stdout",
     "output_type": "stream",
     "text": [
      "{'scatter': 13, 'line': 1, 'density': 21}\n"
     ]
    }
   ],
   "source": [
    "best_types = {'scatter':0, 'line':0, 'density':0}\n",
    "for key in best.keys():\n",
    "    if(best[key]==0):\n",
    "        best_types['scatter']+=1\n",
    "    elif(best[key]==1):\n",
    "        best_types['line']+=1\n",
    "    else:\n",
    "        best_types['density']+=1\n",
    "        \n",
    "print(best_types)"
   ]
  },
  {
   "cell_type": "code",
   "execution_count": 287,
   "metadata": {},
   "outputs": [
    {
     "name": "stdout",
     "output_type": "stream",
     "text": [
      "{'scatter': 21, 'line': 13, 'density': 1}\n"
     ]
    }
   ],
   "source": [
    "second_types = {'scatter':0, 'line':0, 'density':0}\n",
    "for key in second_best.keys():\n",
    "    if(second_best[key]==0):\n",
    "        second_types['scatter']+=1\n",
    "    elif(second_best[key]==1):\n",
    "        second_types['line']+=1\n",
    "    else:\n",
    "        second_types['density']+=1\n",
    "        \n",
    "print(second_types)"
   ]
  },
  {
   "cell_type": "code",
   "execution_count": 301,
   "metadata": {},
   "outputs": [],
   "source": [
    "pred_alex = np.load('./predictions/alexnet_turkle_pred2.npy')\n",
    "pred_vgg = np.load('./predictions/vgg19_turkle_pred.npy')"
   ]
  },
  {
   "cell_type": "code",
   "execution_count": 302,
   "metadata": {},
   "outputs": [
    {
     "name": "stdout",
     "output_type": "stream",
     "text": [
      "{365: 2, 1296: 2, 60: 2, 1200: 2, 827: 2, 287: 2, 874: 2, 289: 2, 1148: 0, 1106: 0, 1351: 2, 1366: 0, 173: 2, 714: 2, 16: 0, 1086: 0, 1283: 0, 117: 0, 961: 2, 1235: 0, 37: 2, 1401: 0, 849: 1, 871: 0, 442: 2, 838: 2, 898: 0, 696: 2, 1396: 2, 495: 2, 1104: 2, 3: 0, 1425: 2, 1041: 0, 560: 2}\n",
      "{365: 0, 1296: 0, 60: 1, 1200: 0, 827: 0, 287: 0, 874: 0, 289: 0, 1148: 1, 1106: 1, 1351: 0, 1366: 1, 173: 0, 714: 0, 16: 2, 1086: 1, 1283: 1, 117: 1, 961: 0, 1235: 1, 37: 0, 1401: 1, 849: 0, 871: 1, 442: 0, 838: 0, 898: 1, 696: 0, 1396: 0, 495: 0, 1104: 0, 3: 1, 1425: 0, 1041: 1, 560: 0}\n"
     ]
    }
   ],
   "source": [
    "print(best)\n",
    "print(second_best)"
   ]
  },
  {
   "cell_type": "code",
   "execution_count": 300,
   "metadata": {
    "scrolled": false
   },
   "outputs": [
    {
     "name": "stdout",
     "output_type": "stream",
     "text": [
      "Predicted : 2, Second Pred : 1,   True : 0\n",
      "Predicted : 0, Second Pred : 1,   True : 2\n",
      "Predicted : 2, Second Pred : 1,   True : 2\n",
      "Predicted : 1, Second Pred : 0,   True : 2\n",
      "Predicted : 0, Second Pred : 2,   True : 0\n",
      "Predicted : 2, Second Pred : 0,   True : 0\n",
      "Predicted : 1, Second Pred : 0,   True : 2\n",
      "Predicted : 1, Second Pred : 0,   True : 2\n",
      "Predicted : 1, Second Pred : 0,   True : 2\n",
      "Predicted : 2, Second Pred : 1,   True : 0\n",
      "Predicted : 0, Second Pred : 1,   True : 2\n",
      "Predicted : 2, Second Pred : 0,   True : 2\n",
      "Predicted : 0, Second Pred : 1,   True : 0\n",
      "Predicted : 2, Second Pred : 1,   True : 2\n",
      "Predicted : 0, Second Pred : 1,   True : 0\n",
      "Predicted : 2, Second Pred : 1,   True : 0\n",
      "Predicted : 2, Second Pred : 0,   True : 0\n",
      "Predicted : 0, Second Pred : 1,   True : 0\n",
      "Predicted : 1, Second Pred : 0,   True : 2\n",
      "Predicted : 0, Second Pred : 2,   True : 2\n",
      "Predicted : 2, Second Pred : 0,   True : 0\n",
      "Predicted : 1, Second Pred : 0,   True : 2\n",
      "Predicted : 2, Second Pred : 1,   True : 0\n",
      "Predicted : 1, Second Pred : 0,   True : 2\n",
      "Predicted : 0, Second Pred : 2,   True : 0\n",
      "Predicted : 1, Second Pred : 0,   True : 2\n",
      "Predicted : 2, Second Pred : 0,   True : 2\n",
      "Predicted : 0, Second Pred : 1,   True : 0\n",
      "Predicted : 0, Second Pred : 1,   True : 1\n",
      "Predicted : 2, Second Pred : 0,   True : 2\n",
      "Predicted : 2, Second Pred : 0,   True : 2\n",
      "Predicted : 2, Second Pred : 1,   True : 2\n",
      "Predicted : 0, Second Pred : 2,   True : 2\n",
      "Predicted : 1, Second Pred : 0,   True : 2\n",
      "Predicted : 0, Second Pred : 1,   True : 2\n",
      "13\n"
     ]
    }
   ],
   "source": [
    "best_correct = 0\n",
    "\n",
    "for i in range(len(pred_alex)):\n",
    "    if best[int(pred_alex[i][0])] == int(pred_alex[i][1]):\n",
    "        best_correct+=1\n",
    "#     if best[int(pred_alex[i][0])] == int(pred_alex[i][2]):\n",
    "#         best_correct+=1\n",
    "\n",
    "        \n",
    "    print(\"Predicted : \" + str(int(pred_alex[i][1])) + \", Second Pred : \" + str(int(pred_alex[i][2])) + \",   True : \" + str(best[int(pred_alex[i][0])]))\n",
    "\n",
    "print(best_correct)"
   ]
  },
  {
   "cell_type": "code",
   "execution_count": 303,
   "metadata": {},
   "outputs": [
    {
     "name": "stdout",
     "output_type": "stream",
     "text": [
      "Predicted : 2, Second Pred : 1,   True : 0\n",
      "Predicted : 0, Second Pred : 1,   True : 2\n",
      "Predicted : 2, Second Pred : 1,   True : 2\n",
      "Predicted : 1, Second Pred : 0,   True : 2\n",
      "Predicted : 0, Second Pred : 2,   True : 0\n",
      "Predicted : 2, Second Pred : 0,   True : 0\n",
      "Predicted : 1, Second Pred : 0,   True : 2\n",
      "Predicted : 1, Second Pred : 0,   True : 2\n",
      "Predicted : 1, Second Pred : 0,   True : 2\n",
      "Predicted : 2, Second Pred : 1,   True : 0\n",
      "Predicted : 0, Second Pred : 1,   True : 2\n",
      "Predicted : 2, Second Pred : 0,   True : 2\n",
      "Predicted : 0, Second Pred : 1,   True : 0\n",
      "Predicted : 2, Second Pred : 1,   True : 2\n",
      "Predicted : 0, Second Pred : 1,   True : 0\n",
      "Predicted : 2, Second Pred : 1,   True : 0\n",
      "Predicted : 2, Second Pred : 0,   True : 0\n",
      "Predicted : 0, Second Pred : 1,   True : 0\n",
      "Predicted : 1, Second Pred : 0,   True : 2\n",
      "Predicted : 0, Second Pred : 2,   True : 2\n",
      "Predicted : 2, Second Pred : 0,   True : 0\n",
      "Predicted : 1, Second Pred : 0,   True : 2\n",
      "Predicted : 2, Second Pred : 1,   True : 0\n",
      "Predicted : 1, Second Pred : 0,   True : 2\n",
      "Predicted : 0, Second Pred : 2,   True : 0\n",
      "Predicted : 1, Second Pred : 0,   True : 2\n",
      "Predicted : 2, Second Pred : 0,   True : 2\n",
      "Predicted : 0, Second Pred : 1,   True : 0\n",
      "Predicted : 0, Second Pred : 1,   True : 1\n",
      "Predicted : 2, Second Pred : 0,   True : 2\n",
      "Predicted : 2, Second Pred : 0,   True : 2\n",
      "Predicted : 2, Second Pred : 1,   True : 2\n",
      "Predicted : 0, Second Pred : 2,   True : 2\n",
      "Predicted : 1, Second Pred : 0,   True : 2\n",
      "Predicted : 0, Second Pred : 1,   True : 2\n",
      "13\n"
     ]
    }
   ],
   "source": [
    "best_correct = 0\n",
    "\n",
    "for i in range(len(pred_alex)):\n",
    "    if best[int(pred_alex[i][0])] == int(pred_alex[i][1]):\n",
    "        best_correct+=1\n",
    "#     if best[int(pred_alex[i][0])] == int(pred_alex[i][2]):\n",
    "#         best_correct+=1\n",
    "\n",
    "        \n",
    "    print(\"Predicted : \" + str(int(pred_alex[i][1])) + \", Second Pred : \" + str(int(pred_alex[i][2])) + \",   True : \" + str(best[int(pred_alex[i][0])]))\n",
    "\n",
    "print(best_correct)"
   ]
  },
  {
   "cell_type": "code",
   "execution_count": 293,
   "metadata": {
    "scrolled": false
   },
   "outputs": [
    {
     "name": "stdout",
     "output_type": "stream",
     "text": [
      "Predicted : 2, Second Pred : 1,   True : 0\n",
      "Predicted : 0, Second Pred : 1,   True : 2\n",
      "Predicted : 0, Second Pred : 1,   True : 2\n",
      "Predicted : 1, Second Pred : 0,   True : 2\n",
      "Predicted : 0, Second Pred : 2,   True : 0\n",
      "Predicted : 1, Second Pred : 0,   True : 0\n",
      "Predicted : 0, Second Pred : 2,   True : 2\n",
      "Predicted : 2, Second Pred : 1,   True : 2\n",
      "Predicted : 1, Second Pred : 2,   True : 2\n",
      "Predicted : 0, Second Pred : 1,   True : 0\n",
      "Predicted : 2, Second Pred : 1,   True : 2\n",
      "Predicted : 2, Second Pred : 0,   True : 2\n",
      "Predicted : 1, Second Pred : 0,   True : 0\n",
      "Predicted : 1, Second Pred : 2,   True : 2\n",
      "Predicted : 1, Second Pred : 0,   True : 0\n",
      "Predicted : 0, Second Pred : 1,   True : 0\n",
      "Predicted : 1, Second Pred : 2,   True : 0\n",
      "Predicted : 0, Second Pred : 2,   True : 0\n",
      "Predicted : 2, Second Pred : 0,   True : 2\n",
      "Predicted : 1, Second Pred : 0,   True : 2\n",
      "Predicted : 0, Second Pred : 2,   True : 0\n",
      "Predicted : 0, Second Pred : 1,   True : 2\n",
      "Predicted : 2, Second Pred : 1,   True : 0\n",
      "Predicted : 1, Second Pred : 0,   True : 2\n",
      "Predicted : 1, Second Pred : 0,   True : 0\n",
      "Predicted : 1, Second Pred : 2,   True : 2\n",
      "Predicted : 0, Second Pred : 1,   True : 2\n",
      "Predicted : 1, Second Pred : 0,   True : 0\n",
      "Predicted : 0, Second Pred : 2,   True : 1\n",
      "Predicted : 0, Second Pred : 1,   True : 2\n",
      "Predicted : 0, Second Pred : 2,   True : 2\n",
      "Predicted : 0, Second Pred : 2,   True : 2\n",
      "Predicted : 0, Second Pred : 2,   True : 2\n",
      "Predicted : 1, Second Pred : 0,   True : 2\n",
      "Predicted : 1, Second Pred : 0,   True : 2\n",
      "9\n"
     ]
    }
   ],
   "source": [
    "best_correct = 0\n",
    "\n",
    "for i in range(len(pred_vgg)):\n",
    "    if best[int(pred_vgg[i][0])] == int(pred_vgg[i][1]):\n",
    "        best_correct+=1\n",
    "#     elif best[int(pred_vgg[i][0])] == int(pred_vgg[i][2]):\n",
    "#         best_correct+=1\n",
    "\n",
    "        \n",
    "    print(\"Predicted : \" + str(int(pred_vgg[i][1])) + \", Second Pred : \" + str(int(pred_vgg[i][2])) + \",   True : \" + str(best[int(pred_vgg[i][0])]))\n",
    "\n",
    "print(best_correct)"
   ]
  },
  {
   "cell_type": "code",
   "execution_count": 272,
   "metadata": {},
   "outputs": [],
   "source": [
    "def loss_fn(feats, out):\n",
    "    loss = nn.MSELoss()\n",
    "    \n",
    "    loss_vector = np.abs(feats-out)\n",
    "    \n",
    "    return loss(torch.from_numpy(feats), torch.from_numpy(out))"
   ]
  },
  {
   "cell_type": "code",
   "execution_count": 273,
   "metadata": {},
   "outputs": [],
   "source": [
    "def accuracy(predictions, gold_labels):\n",
    "    \n",
    "    correct = 0\n",
    "    \n",
    "    for cnt, pred in enumerate(predictions):\n",
    "        if(pred==gold_labels[cnt]):\n",
    "            correct+=1\n",
    "    \n",
    "    return correct"
   ]
  },
  {
   "cell_type": "code",
   "execution_count": 274,
   "metadata": {},
   "outputs": [],
   "source": [
    "pred_stats = np.load('./predictions/pred_stats/alex_stats_exp2.npy')\n",
    "img_order = np.load('./predictions/pred_stats/img_order.npy')"
   ]
  },
  {
   "cell_type": "code",
   "execution_count": 197,
   "metadata": {},
   "outputs": [
    {
     "name": "stdout",
     "output_type": "stream",
     "text": [
      "8\n",
      "8\n",
      "[4. 4. 4. 4. 4. 4.]\n"
     ]
    }
   ],
   "source": [
    "#Create weight search space for all possible combinations\n",
    "\n",
    "weight_space = np.ones((6))\n",
    "max_acc = 0\n",
    "\n",
    "for i in range(1,5):\n",
    "    weight_space[0] = i\n",
    "    for j in range(1,5):\n",
    "        weight_space[1] = j\n",
    "        for k in range(1,5):\n",
    "            weight_space[2] = k\n",
    "            for l in range(1,5):\n",
    "                weight_space[3] = l\n",
    "                for m in range(1,5):\n",
    "                    weight_space[4] = m\n",
    "                    for n in range(1,5):\n",
    "                        weight_space[5] = n\n",
    "                        per_img_loss = np.zeros((35,3))\n",
    "                        \n",
    "                        true_pred = np.zeros((35))\n",
    "                        \n",
    "                        for cnt, folder_index in enumerate(img_order):\n",
    "                            \n",
    "                            true_pred[cnt] = best[int(pred_alex[cnt][0])]\n",
    "                            \n",
    "                            true_stats = pred_stats[cnt][3]\n",
    "                            \n",
    "                            for plot_type in range(3):\n",
    "                                \n",
    "                                temp_stats = np.zeros((26))\n",
    "                    \n",
    "#                                 print(temp_stats)\n",
    "                                for stat in range(26):\n",
    "        \n",
    "                                    temp_stat = pred_stats[cnt][plot_type][stat]\n",
    "            \n",
    "                                    if(stat%5==0 and stat!=25):\n",
    "                                        temp_stat *= weight_space[0]\n",
    "                                    elif(stat%5==1):\n",
    "                                        temp_stat *= weight_space[1]\n",
    "                                    elif(stat%5==2):\n",
    "                                        temp_stat *= weight_space[2]\n",
    "                                    elif(stat%5==3):\n",
    "                                        temp_stat *= weight_space[3]\n",
    "                                    elif(stat%5==4):\n",
    "                                        temp_stat *= weight_space[4]\n",
    "                                    elif(stat==25):\n",
    "                                        temp_stat *= weight_space[5]\n",
    "                                \n",
    "                                temp_stats[stat] = temp_stat\n",
    "                                \n",
    "                                per_img_loss[cnt][plot_type] = loss_fn(temp_stats, true_stats).detach().numpy()\n",
    "                                \n",
    "                        predictions = np.argmin(per_img_loss, axis=1)\n",
    "                        if max_acc < accuracy(predictions, true_pred):\n",
    "#                             print(weight_space)\n",
    "#                             print(max_acc)\n",
    "#                             print(accuracy(predictions, true_pred))\n",
    "                            max_acc = accuracy(predictions, true_pred)\n",
    "                            best_weights = weight_space\n",
    "                            print(max_acc)\n",
    "\n",
    "print(max_acc)                            \n",
    "print(best_weights)"
   ]
  },
  {
   "cell_type": "code",
   "execution_count": 275,
   "metadata": {
    "scrolled": false
   },
   "outputs": [
    {
     "name": "stdout",
     "output_type": "stream",
     "text": [
      "Plot: 1235 ; Prediction: 2 ; True: 0\n",
      "Plot: 173 ; Prediction: 0 ; True: 2\n",
      "Plot: 1396 ; Prediction: 1 ; True: 2\n",
      "Plot: 1351 ; Prediction: 0 ; True: 2\n",
      "Plot: 898 ; Prediction: 1 ; True: 0\n",
      "Plot: 1148 ; Prediction: 0 ; True: 0\n",
      "Plot: 1200 ; Prediction: 0 ; True: 2\n",
      "Plot: 365 ; Prediction: 1 ; True: 2\n",
      "Plot: 560 ; Prediction: 1 ; True: 2\n",
      "Plot: 1041 ; Prediction: 2 ; True: 0\n",
      "Plot: 714 ; Prediction: 2 ; True: 2\n",
      "Plot: 1104 ; Prediction: 0 ; True: 2\n",
      "Plot: 117 ; Prediction: 1 ; True: 0\n",
      "Plot: 289 ; Prediction: 1 ; True: 2\n",
      "Plot: 1366 ; Prediction: 0 ; True: 0\n",
      "Plot: 1086 ; Prediction: 1 ; True: 0\n",
      "Plot: 1283 ; Prediction: 2 ; True: 0\n",
      "Plot: 3 ; Prediction: 0 ; True: 0\n",
      "Plot: 1296 ; Prediction: 1 ; True: 2\n",
      "Plot: 495 ; Prediction: 0 ; True: 2\n",
      "Plot: 871 ; Prediction: 1 ; True: 0\n",
      "Plot: 838 ; Prediction: 0 ; True: 2\n",
      "Plot: 16 ; Prediction: 2 ; True: 0\n",
      "Plot: 1425 ; Prediction: 0 ; True: 2\n",
      "Plot: 1106 ; Prediction: 0 ; True: 0\n",
      "Plot: 874 ; Prediction: 2 ; True: 2\n",
      "Plot: 961 ; Prediction: 0 ; True: 2\n",
      "Plot: 1401 ; Prediction: 0 ; True: 0\n",
      "Plot: 849 ; Prediction: 0 ; True: 1\n",
      "Plot: 60 ; Prediction: 2 ; True: 2\n",
      "Plot: 696 ; Prediction: 2 ; True: 2\n",
      "Plot: 37 ; Prediction: 1 ; True: 2\n",
      "Plot: 827 ; Prediction: 2 ; True: 2\n",
      "Plot: 442 ; Prediction: 2 ; True: 2\n",
      "Plot: 287 ; Prediction: 0 ; True: 2\n"
     ]
    }
   ],
   "source": [
    "for cnt,row in enumerate(pred_alex):\n",
    "    print(\"Plot: \" + str(int(row[0])) + \" ; Prediction: \" + str(int(row[1]))  + \" ; True: \" + str(best[int(pred_vgg[cnt][0])]))"
   ]
  },
  {
   "cell_type": "code",
   "execution_count": null,
   "metadata": {},
   "outputs": [],
   "source": [
    "WRONG\n",
    "\n",
    "Plot: 560 ; Prediction: 1 ; True: 2\n",
    "Plot: 365 ; Prediction: 1 ; True: 2\n",
    "Plot: 1296 ; Prediction: 1 ; True: 2"
   ]
  },
  {
   "cell_type": "code",
   "execution_count": null,
   "metadata": {},
   "outputs": [],
   "source": [
    "RIGHT"
   ]
  }
 ],
 "metadata": {
  "kernelspec": {
   "display_name": "Python 3",
   "language": "python",
   "name": "python3"
  },
  "language_info": {
   "codemirror_mode": {
    "name": "ipython",
    "version": 3
   },
   "file_extension": ".py",
   "mimetype": "text/x-python",
   "name": "python",
   "nbconvert_exporter": "python",
   "pygments_lexer": "ipython3",
   "version": "3.8.5"
  }
 },
 "nbformat": 4,
 "nbformat_minor": 4
}
