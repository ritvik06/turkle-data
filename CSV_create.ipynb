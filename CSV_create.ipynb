{
 "cells": [
  {
   "cell_type": "code",
   "execution_count": 1,
   "metadata": {},
   "outputs": [],
   "source": [
    "import random\n",
    "import shutil\n",
    "import os\n",
    "import sys\n",
    "import pickle\n",
    "import pandas as pd"
   ]
  },
  {
   "cell_type": "code",
   "execution_count": 2,
   "metadata": {},
   "outputs": [],
   "source": [
    "################# GENERATE SAMPLE DATA FOR TURKLE CROWDSOURCING #################"
   ]
  },
  {
   "cell_type": "code",
   "execution_count": 4,
   "metadata": {},
   "outputs": [],
   "source": [
    "NUM_TURKLE = 100\n",
    "src_dir = '/Users/apple/Desktop/VizAI/all/'\n",
    "dst_dir = '/Users/apple/Desktop/turkle-data/turkle_data/'\n",
    "\n",
    "all_data = os.listdir('./all/')\n",
    "\n",
    "random.shuffle(all_data)\n",
    "\n",
    "turkle_data = all_data[:NUM_TURKLE]"
   ]
  },
  {
   "cell_type": "code",
   "execution_count": 5,
   "metadata": {},
   "outputs": [],
   "source": [
    "for folder in turkle_data:\n",
    "    shutil.copytree(src_dir+folder, dst_dir+folder)"
   ]
  },
  {
   "cell_type": "code",
   "execution_count": 3,
   "metadata": {},
   "outputs": [],
   "source": [
    "data_dir = '/Users/apple/Desktop/turkle-data/turkle_data/'\n",
    "turkle_data = os.listdir(data_dir)"
   ]
  },
  {
   "cell_type": "code",
   "execution_count": 37,
   "metadata": {},
   "outputs": [],
   "source": [
    "pkl_test = pickle.load(open(data_dir + '827/827.pkl', 'rb'))"
   ]
  },
  {
   "cell_type": "code",
   "execution_count": 38,
   "metadata": {},
   "outputs": [
    {
     "name": "stdout",
     "output_type": "stream",
     "text": [
      "           X         Y\n",
      "0   0.000000  0.000000\n",
      "1   0.013333  0.032123\n",
      "2   0.026667  0.019700\n",
      "3   0.040000  0.033166\n",
      "4   0.053333  0.037155\n",
      "..       ...       ...\n",
      "71  0.946667  1.000000\n",
      "72  0.960000  0.809206\n",
      "73  0.973333  0.923852\n",
      "74  0.986667  0.876539\n",
      "75  1.000000  0.970035\n",
      "\n",
      "[76 rows x 2 columns]\n"
     ]
    }
   ],
   "source": [
    "print(pkl_test[0])"
   ]
  },
  {
   "cell_type": "code",
   "execution_count": 44,
   "metadata": {},
   "outputs": [
    {
     "name": "stdout",
     "output_type": "stream",
     "text": [
      "0.26075545\n"
     ]
    }
   ],
   "source": [
    "print(pkl_test[0].std()[1])"
   ]
  },
  {
   "cell_type": "code",
   "execution_count": 25,
   "metadata": {},
   "outputs": [],
   "source": [
    "################# QUESTION CSV's for Turkle #################    \n"
   ]
  },
  {
   "cell_type": "code",
   "execution_count": 66,
   "metadata": {},
   "outputs": [],
   "source": [
    "################# SIMPLE STATISTICAL INFERENCE ###################\n",
    "\n",
    "git_link = 'https://raw.githubusercontent.com/ritvik06/turkle-data/master/turkle_data/'\n",
    "    \n",
    "    \n",
    "q1_qstns = {'image_url1':[], 'image_url2':[], 'image_url3':[], 'y_mean':[], 'y_std':[]}\n",
    "\n",
    "for folder in turkle_data:\n",
    "    q1_qstns['image_url1'].append(git_link+folder+'/'+folder+'_scatter_num.png')\n",
    "    q1_qstns['image_url2'].append(git_link+folder+'/'+folder+'_line_num.png')\n",
    "    q1_qstns['image_url3'].append(git_link+folder+'/'+folder+'_density_num.png')\n",
    "\n",
    "    pkl_test = pickle.load(open(data_dir + str(folder) + '/' + str(folder) + '.pkl', 'rb'))\n",
    "    \n",
    "    q1_qstns['y_mean'].append(round(pkl_test[0].mean()[1], 2))\n",
    "    q1_qstns['y_std'].append(round(pkl_test[0].std()[1], 2))\n",
    "\n",
    "df = pd.DataFrame.from_dict(q1_qstns)\n",
    "print(df)\n",
    "df.to_csv('Q1_CSI.csv')"
   ]
  },
  {
   "cell_type": "code",
   "execution_count": 72,
   "metadata": {},
   "outputs": [],
   "source": [
    "################# IDENTIFY THE CLUSTERS ###################\n",
    "\n",
    "git_link = 'https://raw.githubusercontent.com/ritvik06/turkle-data/master/turkle_data/'\n",
    "    \n",
    "    \n",
    "q2_qstns = {'image_url1':[]}\n",
    "\n",
    "plt_list = []\n",
    "\n",
    "for folder in turkle_data:\n",
    "    plt_list.append(git_link+folder+'/'+folder+'_scatter_num.png')\n",
    "    plt_list.append(git_link+folder+'/'+folder+'_line_num.png')\n",
    "    plt_list.append(git_link+folder+'/'+folder+'_density_num.png')\n",
    "    \n",
    "random.shuffle(plt_list)\n",
    "    \n",
    "for img_loc in plt_list:\n",
    "    q2_qstns['image_url1'].append(img_loc)\n",
    "\n",
    "df = pd.DataFrame.from_dict(q2_qstns)\n",
    "# print(df)\n",
    "df.to_csv('Q2_Clusters.csv')"
   ]
  },
  {
   "cell_type": "code",
   "execution_count": null,
   "metadata": {},
   "outputs": [],
   "source": []
  }
 ],
 "metadata": {
  "kernelspec": {
   "display_name": "Python 3",
   "language": "python",
   "name": "python3"
  },
  "language_info": {
   "codemirror_mode": {
    "name": "ipython",
    "version": 3
   },
   "file_extension": ".py",
   "mimetype": "text/x-python",
   "name": "python",
   "nbconvert_exporter": "python",
   "pygments_lexer": "ipython3",
   "version": "3.8.5"
  }
 },
 "nbformat": 4,
 "nbformat_minor": 4
}
