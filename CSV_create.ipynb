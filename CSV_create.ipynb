{
 "cells": [
  {
   "cell_type": "code",
   "execution_count": 1,
   "metadata": {},
   "outputs": [],
   "source": [
    "import random\n",
    "import shutil\n",
    "import os\n",
    "import sys\n",
    "import pickle\n",
    "import pandas as pd\n",
    "import cv2\n",
    "from matplotlib import pyplot as plt"
   ]
  },
  {
   "cell_type": "code",
   "execution_count": 2,
   "metadata": {},
   "outputs": [],
   "source": [
    "################# GENERATE SAMPLE DATA FOR TURKLE CROWDSOURCING #################"
   ]
  },
  {
   "cell_type": "code",
   "execution_count": 3,
   "metadata": {},
   "outputs": [
    {
     "ename": "FileNotFoundError",
     "evalue": "[Errno 2] No such file or directory: './all/'",
     "output_type": "error",
     "traceback": [
      "\u001b[0;31m---------------------------------------------------------------------------\u001b[0m",
      "\u001b[0;31mFileNotFoundError\u001b[0m                         Traceback (most recent call last)",
      "\u001b[0;32m<ipython-input-3-6723e3188a35>\u001b[0m in \u001b[0;36m<module>\u001b[0;34m\u001b[0m\n\u001b[1;32m      3\u001b[0m \u001b[0mdst_dir\u001b[0m \u001b[0;34m=\u001b[0m \u001b[0;34m'/Users/apple/Desktop/turkle-data/turkle_data/'\u001b[0m\u001b[0;34m\u001b[0m\u001b[0;34m\u001b[0m\u001b[0m\n\u001b[1;32m      4\u001b[0m \u001b[0;34m\u001b[0m\u001b[0m\n\u001b[0;32m----> 5\u001b[0;31m \u001b[0mall_data\u001b[0m \u001b[0;34m=\u001b[0m \u001b[0mos\u001b[0m\u001b[0;34m.\u001b[0m\u001b[0mlistdir\u001b[0m\u001b[0;34m(\u001b[0m\u001b[0;34m'./all/'\u001b[0m\u001b[0;34m)\u001b[0m\u001b[0;34m\u001b[0m\u001b[0;34m\u001b[0m\u001b[0m\n\u001b[0m\u001b[1;32m      6\u001b[0m \u001b[0;34m\u001b[0m\u001b[0m\n\u001b[1;32m      7\u001b[0m \u001b[0mrandom\u001b[0m\u001b[0;34m.\u001b[0m\u001b[0mshuffle\u001b[0m\u001b[0;34m(\u001b[0m\u001b[0mall_data\u001b[0m\u001b[0;34m)\u001b[0m\u001b[0;34m\u001b[0m\u001b[0;34m\u001b[0m\u001b[0m\n",
      "\u001b[0;31mFileNotFoundError\u001b[0m: [Errno 2] No such file or directory: './all/'"
     ]
    }
   ],
   "source": [
    "NUM_TURKLE = 33\n",
    "src_dir = '/Users/apple/Desktop/VizAI/all/'\n",
    "dst_dir = '/Users/apple/Desktop/turkle-data/plots'\n",
    "\n",
    "all_data = os.listdir('./all/')\n",
    "\n",
    "random.shuffle(all_data)\n",
    "\n",
    "turkle_data = all_data[:NUM_TURKLE]"
   ]
  },
  {
   "cell_type": "code",
   "execution_count": 5,
   "metadata": {},
   "outputs": [],
   "source": [
    "for folder in turkle_data:\n",
    "    shutil.copytree(src_dir+folder, dst_dir+folder)"
   ]
  },
  {
   "cell_type": "code",
   "execution_count": 2,
   "metadata": {},
   "outputs": [],
   "source": [
    "data_dir = '/Users/apple/Desktop/turkle-data/plots/'\n",
    "turkle_data = os.listdir(data_dir)"
   ]
  },
  {
   "cell_type": "code",
   "execution_count": 37,
   "metadata": {},
   "outputs": [],
   "source": [
    "pkl_test = pickle.load(open(data_dir + '827/827.pkl', 'rb'))"
   ]
  },
  {
   "cell_type": "code",
   "execution_count": 38,
   "metadata": {},
   "outputs": [
    {
     "name": "stdout",
     "output_type": "stream",
     "text": [
      "           X         Y\n",
      "0   0.000000  0.000000\n",
      "1   0.013333  0.032123\n",
      "2   0.026667  0.019700\n",
      "3   0.040000  0.033166\n",
      "4   0.053333  0.037155\n",
      "..       ...       ...\n",
      "71  0.946667  1.000000\n",
      "72  0.960000  0.809206\n",
      "73  0.973333  0.923852\n",
      "74  0.986667  0.876539\n",
      "75  1.000000  0.970035\n",
      "\n",
      "[76 rows x 2 columns]\n"
     ]
    }
   ],
   "source": [
    "print(pkl_test[0])"
   ]
  },
  {
   "cell_type": "code",
   "execution_count": 44,
   "metadata": {},
   "outputs": [
    {
     "name": "stdout",
     "output_type": "stream",
     "text": [
      "0.26075545\n"
     ]
    }
   ],
   "source": [
    "print(pkl_test[0].std()[1])"
   ]
  },
  {
   "cell_type": "code",
   "execution_count": 25,
   "metadata": {},
   "outputs": [],
   "source": [
    "################# QUESTION CSV's for Turkle #################    \n"
   ]
  },
  {
   "cell_type": "code",
   "execution_count": 4,
   "metadata": {},
   "outputs": [
    {
     "name": "stdout",
     "output_type": "stream",
     "text": [
      "                                           image_url1  \\\n",
      "0   https://raw.githubusercontent.com/ritvik06/tur...   \n",
      "1   https://raw.githubusercontent.com/ritvik06/tur...   \n",
      "2   https://raw.githubusercontent.com/ritvik06/tur...   \n",
      "3   https://raw.githubusercontent.com/ritvik06/tur...   \n",
      "4   https://raw.githubusercontent.com/ritvik06/tur...   \n",
      "5   https://raw.githubusercontent.com/ritvik06/tur...   \n",
      "6   https://raw.githubusercontent.com/ritvik06/tur...   \n",
      "7   https://raw.githubusercontent.com/ritvik06/tur...   \n",
      "8   https://raw.githubusercontent.com/ritvik06/tur...   \n",
      "9   https://raw.githubusercontent.com/ritvik06/tur...   \n",
      "10  https://raw.githubusercontent.com/ritvik06/tur...   \n",
      "11  https://raw.githubusercontent.com/ritvik06/tur...   \n",
      "12  https://raw.githubusercontent.com/ritvik06/tur...   \n",
      "13  https://raw.githubusercontent.com/ritvik06/tur...   \n",
      "14  https://raw.githubusercontent.com/ritvik06/tur...   \n",
      "15  https://raw.githubusercontent.com/ritvik06/tur...   \n",
      "16  https://raw.githubusercontent.com/ritvik06/tur...   \n",
      "17  https://raw.githubusercontent.com/ritvik06/tur...   \n",
      "18  https://raw.githubusercontent.com/ritvik06/tur...   \n",
      "19  https://raw.githubusercontent.com/ritvik06/tur...   \n",
      "20  https://raw.githubusercontent.com/ritvik06/tur...   \n",
      "21  https://raw.githubusercontent.com/ritvik06/tur...   \n",
      "22  https://raw.githubusercontent.com/ritvik06/tur...   \n",
      "23  https://raw.githubusercontent.com/ritvik06/tur...   \n",
      "24  https://raw.githubusercontent.com/ritvik06/tur...   \n",
      "25  https://raw.githubusercontent.com/ritvik06/tur...   \n",
      "26  https://raw.githubusercontent.com/ritvik06/tur...   \n",
      "27  https://raw.githubusercontent.com/ritvik06/tur...   \n",
      "28  https://raw.githubusercontent.com/ritvik06/tur...   \n",
      "29  https://raw.githubusercontent.com/ritvik06/tur...   \n",
      "30  https://raw.githubusercontent.com/ritvik06/tur...   \n",
      "31  https://raw.githubusercontent.com/ritvik06/tur...   \n",
      "32  https://raw.githubusercontent.com/ritvik06/tur...   \n",
      "33  https://raw.githubusercontent.com/ritvik06/tur...   \n",
      "34  https://raw.githubusercontent.com/ritvik06/tur...   \n",
      "\n",
      "                                           image_url2  \\\n",
      "0   https://raw.githubusercontent.com/ritvik06/tur...   \n",
      "1   https://raw.githubusercontent.com/ritvik06/tur...   \n",
      "2   https://raw.githubusercontent.com/ritvik06/tur...   \n",
      "3   https://raw.githubusercontent.com/ritvik06/tur...   \n",
      "4   https://raw.githubusercontent.com/ritvik06/tur...   \n",
      "5   https://raw.githubusercontent.com/ritvik06/tur...   \n",
      "6   https://raw.githubusercontent.com/ritvik06/tur...   \n",
      "7   https://raw.githubusercontent.com/ritvik06/tur...   \n",
      "8   https://raw.githubusercontent.com/ritvik06/tur...   \n",
      "9   https://raw.githubusercontent.com/ritvik06/tur...   \n",
      "10  https://raw.githubusercontent.com/ritvik06/tur...   \n",
      "11  https://raw.githubusercontent.com/ritvik06/tur...   \n",
      "12  https://raw.githubusercontent.com/ritvik06/tur...   \n",
      "13  https://raw.githubusercontent.com/ritvik06/tur...   \n",
      "14  https://raw.githubusercontent.com/ritvik06/tur...   \n",
      "15  https://raw.githubusercontent.com/ritvik06/tur...   \n",
      "16  https://raw.githubusercontent.com/ritvik06/tur...   \n",
      "17  https://raw.githubusercontent.com/ritvik06/tur...   \n",
      "18  https://raw.githubusercontent.com/ritvik06/tur...   \n",
      "19  https://raw.githubusercontent.com/ritvik06/tur...   \n",
      "20  https://raw.githubusercontent.com/ritvik06/tur...   \n",
      "21  https://raw.githubusercontent.com/ritvik06/tur...   \n",
      "22  https://raw.githubusercontent.com/ritvik06/tur...   \n",
      "23  https://raw.githubusercontent.com/ritvik06/tur...   \n",
      "24  https://raw.githubusercontent.com/ritvik06/tur...   \n",
      "25  https://raw.githubusercontent.com/ritvik06/tur...   \n",
      "26  https://raw.githubusercontent.com/ritvik06/tur...   \n",
      "27  https://raw.githubusercontent.com/ritvik06/tur...   \n",
      "28  https://raw.githubusercontent.com/ritvik06/tur...   \n",
      "29  https://raw.githubusercontent.com/ritvik06/tur...   \n",
      "30  https://raw.githubusercontent.com/ritvik06/tur...   \n",
      "31  https://raw.githubusercontent.com/ritvik06/tur...   \n",
      "32  https://raw.githubusercontent.com/ritvik06/tur...   \n",
      "33  https://raw.githubusercontent.com/ritvik06/tur...   \n",
      "34  https://raw.githubusercontent.com/ritvik06/tur...   \n",
      "\n",
      "                                           image_url3  y_mean  y_std  \n",
      "0   https://raw.githubusercontent.com/ritvik06/tur...    0.74   0.25  \n",
      "1   https://raw.githubusercontent.com/ritvik06/tur...    0.89   0.24  \n",
      "2   https://raw.githubusercontent.com/ritvik06/tur...    0.50   0.29  \n",
      "3   https://raw.githubusercontent.com/ritvik06/tur...    0.63   0.27  \n",
      "4   https://raw.githubusercontent.com/ritvik06/tur...    0.36   0.18  \n",
      "5   https://raw.githubusercontent.com/ritvik06/tur...    0.30   0.26  \n",
      "6   https://raw.githubusercontent.com/ritvik06/tur...    0.41   0.45  \n",
      "7   https://raw.githubusercontent.com/ritvik06/tur...    0.48   0.31  \n",
      "8   https://raw.githubusercontent.com/ritvik06/tur...    0.49   0.34  \n",
      "9   https://raw.githubusercontent.com/ritvik06/tur...    0.12   0.19  \n",
      "10  https://raw.githubusercontent.com/ritvik06/tur...    0.54   0.33  \n",
      "11  https://raw.githubusercontent.com/ritvik06/tur...    0.55   0.24  \n",
      "12  https://raw.githubusercontent.com/ritvik06/tur...    0.63   0.27  \n",
      "13  https://raw.githubusercontent.com/ritvik06/tur...    0.50   0.71  \n",
      "14  https://raw.githubusercontent.com/ritvik06/tur...    0.40   0.38  \n",
      "15  https://raw.githubusercontent.com/ritvik06/tur...    0.44   0.40  \n",
      "16  https://raw.githubusercontent.com/ritvik06/tur...    0.47   0.36  \n",
      "17  https://raw.githubusercontent.com/ritvik06/tur...    0.43   0.18  \n",
      "18  https://raw.githubusercontent.com/ritvik06/tur...    0.53   0.45  \n",
      "19  https://raw.githubusercontent.com/ritvik06/tur...    0.46   0.30  \n",
      "20  https://raw.githubusercontent.com/ritvik06/tur...    0.45   0.38  \n",
      "21  https://raw.githubusercontent.com/ritvik06/tur...    0.48   0.29  \n",
      "22  https://raw.githubusercontent.com/ritvik06/tur...    0.51   0.25  \n",
      "23  https://raw.githubusercontent.com/ritvik06/tur...    0.46   0.25  \n",
      "24  https://raw.githubusercontent.com/ritvik06/tur...    0.53   0.21  \n",
      "25  https://raw.githubusercontent.com/ritvik06/tur...    0.50   0.45  \n",
      "26  https://raw.githubusercontent.com/ritvik06/tur...    0.50   0.35  \n",
      "27  https://raw.githubusercontent.com/ritvik06/tur...    0.56   0.25  \n",
      "28  https://raw.githubusercontent.com/ritvik06/tur...    0.44   0.45  \n",
      "29  https://raw.githubusercontent.com/ritvik06/tur...    0.40   0.32  \n",
      "30  https://raw.githubusercontent.com/ritvik06/tur...    0.50   0.50  \n",
      "31  https://raw.githubusercontent.com/ritvik06/tur...    0.18   0.10  \n",
      "32  https://raw.githubusercontent.com/ritvik06/tur...    0.73   0.35  \n",
      "33  https://raw.githubusercontent.com/ritvik06/tur...    0.44   0.23  \n",
      "34  https://raw.githubusercontent.com/ritvik06/tur...    0.61   0.23  \n"
     ]
    }
   ],
   "source": [
    "################# COMPLEX STATISTICAL INFERENCE ###################\n",
    "\n",
    "git_link = 'https://raw.githubusercontent.com/ritvik06/turkle-data/master/turkle_data/'\n",
    "    \n",
    "turkle_data = os.listdir('./plots/')    \n",
    "    \n",
    "q1_qstns = {'image_url1':[], 'image_url2':[], 'image_url3':[], 'y_mean':[], 'y_std':[]}\n",
    "\n",
    "for folder in turkle_data:\n",
    "    q1_qstns['image_url1'].append(git_link+folder+'/'+folder+'_scatter_num.png')\n",
    "    q1_qstns['image_url2'].append(git_link+folder+'/'+folder+'_line_num.png')\n",
    "    q1_qstns['image_url3'].append(git_link+folder+'/'+folder+'_density_num.png')\n",
    "\n",
    "    pkl_test = pickle.load(open(data_dir + str(folder) + '/' + str(folder) + '.pkl', 'rb'))\n",
    "    \n",
    "    q1_qstns['y_mean'].append(round(pkl_test[0].mean()[1], 2))\n",
    "    q1_qstns['y_std'].append(round(pkl_test[0].std()[1], 2))\n",
    "\n",
    "df = pd.DataFrame.from_dict(q1_qstns)\n",
    "# print(df)\n",
    "df.to_csv('Q1_CSI.csv')"
   ]
  },
  {
   "cell_type": "code",
   "execution_count": 5,
   "metadata": {},
   "outputs": [],
   "source": [
    "################# IDENTIFY THE CLUSTERS ###################\n",
    "\n",
    "git_link = 'https://raw.githubusercontent.com/ritvik06/turkle-data/master/turkle_data/'    \n",
    "    \n",
    "q2_qstns = {'image_url1':[]}\n",
    "\n",
    "plt_list = []\n",
    "\n",
    "for folder in turkle_data:\n",
    "    plt_list.append(git_link+folder+'/'+folder+'_scatter_num.png')\n",
    "    plt_list.append(git_link+folder+'/'+folder+'_line_num.png')\n",
    "    plt_list.append(git_link+folder+'/'+folder+'_density_num.png')\n",
    "    \n",
    "random.shuffle(plt_list)\n",
    "    \n",
    "for img_loc in plt_list:\n",
    "    q2_qstns['image_url1'].append(img_loc)\n",
    "\n",
    "df = pd.DataFrame.from_dict(q2_qstns)\n",
    "# print(df)\n",
    "df.to_csv('Q2_Clusters.csv')"
   ]
  },
  {
   "cell_type": "code",
   "execution_count": null,
   "metadata": {},
   "outputs": [],
   "source": [
    "\n"
   ]
  }
 ],
 "metadata": {
  "kernelspec": {
   "display_name": "Python 3",
   "language": "python",
   "name": "python3"
  },
  "language_info": {
   "codemirror_mode": {
    "name": "ipython",
    "version": 3
   },
   "file_extension": ".py",
   "mimetype": "text/x-python",
   "name": "python",
   "nbconvert_exporter": "python",
   "pygments_lexer": "ipython3",
   "version": "3.8.5"
  }
 },
 "nbformat": 4,
 "nbformat_minor": 4
}
